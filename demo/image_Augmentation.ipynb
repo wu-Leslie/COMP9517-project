{
 "cells": [
  {
   "cell_type": "code",
   "execution_count": null,
   "metadata": {},
   "outputs": [],
   "source": [
    "import os\n",
    "import json\n",
    "import cv2\n"
   ]
  },
  {
   "cell_type": "code",
   "execution_count": null,
   "metadata": {},
   "outputs": [],
   "source": [
    "def image_upside_down_flipping(image, bbox):\n",
    "    \n",
    "    flipped_image = cv2.flip(image, 0)\n",
    "    x_min, y_min, width, height = bbox\n",
    "    \n",
    "    y_min = int((640 - y_min - height) / 4)\n",
    "    x_min = int(x_min / 4)\n",
    "\n",
    "    width = int(width / 4)\n",
    "    height = int(height / 4)\n",
    "\n",
    "    re_bbox = [x_min, y_min, width, height]\n",
    "    return flipped_image, re_bbox"
   ]
  },
  {
   "cell_type": "code",
   "execution_count": null,
   "metadata": {},
   "outputs": [],
   "source": [
    "def image_leftright_down_flipping(image, bbox):\n",
    "    \n",
    "    flipped_image = cv2.flip(image, 1)\n",
    "    x_min, y_min, width, height = bbox\n",
    "    \n",
    "    x_min = int((640 - x_min - width) / 4)\n",
    "    y_min = int (y_min / 4)\n",
    "    width = int(width / 4)\n",
    "    height = int(height / 4)\n",
    "    \n",
    "    re_bbox = [x_min, y_min, width, height]\n",
    "    return flipped_image, re_bbox"
   ]
  },
  {
   "cell_type": "code",
   "execution_count": null,
   "metadata": {},
   "outputs": [],
   "source": [
    "def both_down_flipping(image, bbox):\n",
    "    \n",
    "    image = cv2.flip(image, 0)\n",
    "    flipped_image = cv2.flip(image, 1)\n",
    "    x_min, y_min, width, height = bbox\n",
    "    \n",
    "    y_min = int((640 - y_min - height) / 4)\n",
    "    x_min = int((640 - x_min - width) / 4 )\n",
    "    width = int(width / 4)\n",
    "    height = int(height / 4)\n",
    "    \n",
    "    re_bbox = [x_min, y_min, width, height]\n",
    "    return flipped_image, re_bbox"
   ]
  },
  {
   "cell_type": "code",
   "execution_count": null,
   "metadata": {},
   "outputs": [],
   "source": [
    "def image_augmentation(input_image_path, output_image_path, image_annotation_path, output_image_annotation_path):\n",
    "\n",
    "    with open(image_annotation_path, 'r') as file:\n",
    "        content = file.read()\n",
    "\n",
    "    data = json.loads(content)\n",
    "    filenames = os.listdir(input_image_path)\n",
    "    output_folder = output_image_path\n",
    "    filenames.sort()\n",
    "    annotations = []\n",
    "    number = 0\n",
    "    origin_image_num = 0\n",
    "    for filename in filenames:\n",
    "        image = cv2.imread(f\"{input_image_path}/{filename}\")\n",
    "        image = cv2.resize(image, (160, 160))\n",
    "        print(filename)\n",
    "        x_min, y_min, width, height = data[origin_image_num][\"bbox\"]\n",
    "        y_min = int(y_min / 4)\n",
    "        x_min = int(x_min / 4)\n",
    "        width = int(width / 4)\n",
    "        height = int(height / 4)\n",
    "        re_bbox = [x_min, y_min, width, height]\n",
    "        annotation = {\"id\": number, \"image_id\": number, \"bbox\": re_bbox, \"area\": int(data[origin_image_num][\"area\"] / 16), \"category_id\": data[origin_image_num][\"category_id\"]}\n",
    "        annotations.append(annotation)\n",
    "        output_path = f\"{output_folder}/{number}.jpg\"\n",
    "        cv2.imwrite(output_path, image)\n",
    "        number += 1\n",
    "        print(f\"image {number}.jpg is already process\")\n",
    "\n",
    "\n",
    "        flipped_image, bbox = image_upside_down_flipping(image, data[origin_image_num][\"bbox\"])\n",
    "        annotation = {\"id\": number, \"image_id\": number, \"bbox\": bbox, \"area\": int(data[origin_image_num][\"area\"] / 16), \"category_id\": data[origin_image_num][\"category_id\"]}\n",
    "        annotations.append(annotation)\n",
    "        output_path = f\"{output_folder}/{number}.jpg\"\n",
    "        cv2.imwrite(output_path, flipped_image)\n",
    "        number += 1\n",
    "        print(f\"image {number}.jpg is already process\")\n",
    "\n",
    "        \n",
    "        flipped_image, bbox = image_leftright_down_flipping(image, data[origin_image_num][\"bbox\"])\n",
    "        annotation = {\"id\": number, \"image_id\": number, \"bbox\": bbox, \"area\": int(data[origin_image_num][\"area\"] / 16), \"category_id\": data[origin_image_num][\"category_id\"]}\n",
    "        annotations.append(annotation)\n",
    "        output_path = f\"{output_folder}/{number}.jpg\"\n",
    "        cv2.imwrite(output_path, flipped_image)\n",
    "        number += 1\n",
    "        print(f\"image {number}.jpg is already process\")\n",
    "\n",
    "        \n",
    "        flipped_image, bbox = both_down_flipping(image, data[origin_image_num][\"bbox\"])\n",
    "        annotation = {\"id\": number, \"image_id\": number, \"bbox\": bbox, \"area\": int(data[origin_image_num][\"area\"] / 16), \"category_id\": data[origin_image_num][\"category_id\"]}\n",
    "        annotations.append(annotation)\n",
    "        output_path = f\"{output_folder}/{number}.jpg\"\n",
    "        cv2.imwrite(output_path, flipped_image)\n",
    "        number += 1\n",
    "        print(f\"image {number}.jpg is already process\")\n",
    "        \n",
    "        \n",
    "        origin_image_num += 1\n",
    "        \n",
    "    with open(output_image_annotation_path, \"w\") as file:\n",
    "        json.dump(annotations, file)\n",
    "\n",
    "\n",
    "\n"
   ]
  },
  {
   "cell_type": "code",
   "execution_count": null,
   "metadata": {},
   "outputs": [],
   "source": [
    "def folder_create(filename):\n",
    "    folder_path = filename\n",
    "\n",
    "    if not os.path.exists(folder_path):\n",
    "        os.makedirs(folder_path)\n",
    "        print(\"Folder created successfully.\")\n",
    "    else:\n",
    "        print(\"Folder already exists.\")\n"
   ]
  },
  {
   "cell_type": "code",
   "execution_count": null,
   "metadata": {},
   "outputs": [],
   "source": [
    "folder_name = [\"../train/augmentation/\", \"../train/pre_augmentation/\", \"../valid/augmentation/\", \"../valid/pre_augmentation/\"]\n",
    "\n",
    "for i in folder_name:\n",
    "    folder_create(i)\n",
    "\n",
    "# image_augmentation(\"../train/train/\", \"../train/augmentation/\", \"../train_annotations\", \"../train_annotations_augmentation\")\n",
    "\n",
    "image_augmentation(\"../train/preprocess/\", \"../train/pre_augmentation/\", \"../train_annotations\", \"../train_annotations_augmentation\")\n",
    "\n",
    "# image_augmentation(\"../valid/valid/\", \"../valid/augmentation/\", \"../valid_annotations\", \"../valid_annotations_augmentation\")\n",
    "\n",
    "image_augmentation(\"../valid/preprocess/\", \"../valid/pre_augmentation/\", \"../valid_annotations\", \"../valid_annotations_augmentation\")"
   ]
  },
  {
   "cell_type": "code",
   "execution_count": null,
   "metadata": {},
   "outputs": [],
   "source": [
    "number = ['1', '111', '1000']\n",
    "number.sort()\n",
    "print(number)"
   ]
  }
 ],
 "metadata": {
  "kernelspec": {
   "display_name": "Python 3",
   "language": "python",
   "name": "python3"
  },
  "language_info": {
   "codemirror_mode": {
    "name": "ipython",
    "version": 3
   },
   "file_extension": ".py",
   "mimetype": "text/x-python",
   "name": "python",
   "nbconvert_exporter": "python",
   "pygments_lexer": "ipython3",
   "version": "3.9.2"
  },
  "orig_nbformat": 4
 },
 "nbformat": 4,
 "nbformat_minor": 2
}
