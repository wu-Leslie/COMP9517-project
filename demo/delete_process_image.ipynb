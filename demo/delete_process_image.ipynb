{
 "cells": [
  {
   "cell_type": "code",
   "execution_count": 5,
   "metadata": {},
   "outputs": [],
   "source": [
    "import os\n",
    "\n",
    "def delete_files_in_directory(directory):\n",
    "    \n",
    "    if os.path.exists(directory):\n",
    "        \n",
    "        # Gets a list of all files in a directory\n",
    "        file_list = os.listdir(directory)\n",
    "\n",
    "        # Go through all the files\n",
    "        for file_name in file_list:\n",
    "            file_path = os.path.join(directory, file_name)\n",
    "            if os.path.isfile(file_path):  \n",
    "                # if is file, delete\n",
    "                os.remove(file_path)\n",
    "\n",
    "        os.rmdir(directory)\n",
    "    \n",
    "# The directory path to which the file is to be deleted\n",
    "directory_path = \"../train/preprocess/\"\n",
    "delete_files_in_directory(directory_path)\n",
    "\n",
    "directory_path = \"../train/augmentation/\"\n",
    "delete_files_in_directory(directory_path)\n",
    "\n",
    "directory_path = \"../train/pre_augmentation/\"\n",
    "delete_files_in_directory(directory_path)\n",
    "\n",
    "directory_path = \"../valid/preprocess/\"\n",
    "delete_files_in_directory(directory_path)\n",
    "\n",
    "directory_path = \"../valid/augmentation/\"\n",
    "delete_files_in_directory(directory_path)\n",
    "\n",
    "directory_path = \"../valid/pre_augmentation/\"\n",
    "delete_files_in_directory(directory_path)"
   ]
  },
  {
   "cell_type": "code",
   "execution_count": 2,
   "metadata": {},
   "outputs": [],
   "source": [
    "def clear_file_content(file_path):\n",
    "    with open(file_path, 'w') as file:\n",
    "        file.write(\"\")  # Empty the contents of the file with an empty string\n",
    "\n",
    "# Text file path to empty content\n",
    "file_path = '../train_annotations_augmentation'\n",
    "clear_file_content(file_path)\n",
    "\n",
    "file_path = '../valid_annotations_augmentation'\n",
    "clear_file_content(file_path)"
   ]
  }
 ],
 "metadata": {
  "kernelspec": {
   "display_name": "Python 3",
   "language": "python",
   "name": "python3"
  },
  "language_info": {
   "codemirror_mode": {
    "name": "ipython",
    "version": 3
   },
   "file_extension": ".py",
   "mimetype": "text/x-python",
   "name": "python",
   "nbconvert_exporter": "python",
   "pygments_lexer": "ipython3",
   "version": "3.9.2"
  },
  "orig_nbformat": 4
 },
 "nbformat": 4,
 "nbformat_minor": 2
}
